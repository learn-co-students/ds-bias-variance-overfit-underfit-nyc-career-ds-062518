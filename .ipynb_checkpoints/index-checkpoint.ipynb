{
 "cells": [
  {
   "cell_type": "markdown",
   "metadata": {},
   "source": [
    "# Bias Variance Tradeoff + More Overfitting"
   ]
  },
  {
   "cell_type": "markdown",
   "metadata": {},
   "source": [
    "When modelling, we are trying to create a useful prediction that can help us in the future. When doing this, we have seen how we need to create a train test split in order to keep ourselves honest in tuning our model to the data itself. Another perspective on this problem of overfitting versus underfitting is the bias variance tradeoff. We can decompose the mean squared error of our models in terms of bias and variance to further investigate.\n",
    "\n",
    "$ E[(y-\\hat{f}(x)^2] = Bias(\\hat{f}(x))^2 + Var(\\hat{f}(x)) + \\sigma^2$\n",
    "  \n",
    "  \n",
    "$Bias(\\hat{f}(x)) = E[\\hat{f}(x)-f(x)]$  \n",
    "$Var(\\hat{f}(x)) = E[\\hat{f}(x)^2] - \\big(E[\\hat{f}(x)]\\big)^2$\n",
    "\n",
    "<img src=\"./images/bias_variance.png\" alt=\"Drawing\" style=\"width: 500px;\"/>"
   ]
  },
  {
   "cell_type": "markdown",
   "metadata": {},
   "source": [
    "## 1. Split the data into a test and train set."
   ]
  },
  {
   "cell_type": "code",
   "execution_count": 2,
   "metadata": {},
   "outputs": [
    {
     "data": {
      "text/html": [
       "<div>\n",
       "<style scoped>\n",
       "    .dataframe tbody tr th:only-of-type {\n",
       "        vertical-align: middle;\n",
       "    }\n",
       "\n",
       "    .dataframe tbody tr th {\n",
       "        vertical-align: top;\n",
       "    }\n",
       "\n",
       "    .dataframe thead th {\n",
       "        text-align: right;\n",
       "    }\n",
       "</style>\n",
       "<table border=\"1\" class=\"dataframe\">\n",
       "  <thead>\n",
       "    <tr style=\"text-align: right;\">\n",
       "      <th></th>\n",
       "      <th>budget</th>\n",
       "      <th>domgross</th>\n",
       "      <th>title</th>\n",
       "      <th>Response_Json</th>\n",
       "      <th>Year</th>\n",
       "      <th>imdbRating</th>\n",
       "      <th>Metascore</th>\n",
       "      <th>imdbVotes</th>\n",
       "      <th>Model</th>\n",
       "    </tr>\n",
       "  </thead>\n",
       "  <tbody>\n",
       "    <tr>\n",
       "      <th>0</th>\n",
       "      <td>0.034169</td>\n",
       "      <td>0.055325</td>\n",
       "      <td>21 &amp;amp; Over</td>\n",
       "      <td>NaN</td>\n",
       "      <td>0.997516</td>\n",
       "      <td>0.839506</td>\n",
       "      <td>0.500000</td>\n",
       "      <td>0.384192</td>\n",
       "      <td>0.261351</td>\n",
       "    </tr>\n",
       "    <tr>\n",
       "      <th>1</th>\n",
       "      <td>0.182956</td>\n",
       "      <td>0.023779</td>\n",
       "      <td>Dredd 3D</td>\n",
       "      <td>NaN</td>\n",
       "      <td>0.999503</td>\n",
       "      <td>0.000000</td>\n",
       "      <td>0.000000</td>\n",
       "      <td>0.000000</td>\n",
       "      <td>0.070486</td>\n",
       "    </tr>\n",
       "    <tr>\n",
       "      <th>2</th>\n",
       "      <td>0.066059</td>\n",
       "      <td>0.125847</td>\n",
       "      <td>12 Years a Slave</td>\n",
       "      <td>NaN</td>\n",
       "      <td>1.000000</td>\n",
       "      <td>1.000000</td>\n",
       "      <td>1.000000</td>\n",
       "      <td>1.000000</td>\n",
       "      <td>0.704489</td>\n",
       "    </tr>\n",
       "    <tr>\n",
       "      <th>3</th>\n",
       "      <td>0.252847</td>\n",
       "      <td>0.183719</td>\n",
       "      <td>2 Guns</td>\n",
       "      <td>NaN</td>\n",
       "      <td>1.000000</td>\n",
       "      <td>0.827160</td>\n",
       "      <td>0.572917</td>\n",
       "      <td>0.323196</td>\n",
       "      <td>0.371052</td>\n",
       "    </tr>\n",
       "    <tr>\n",
       "      <th>4</th>\n",
       "      <td>0.157175</td>\n",
       "      <td>0.233625</td>\n",
       "      <td>42</td>\n",
       "      <td>NaN</td>\n",
       "      <td>1.000000</td>\n",
       "      <td>0.925926</td>\n",
       "      <td>0.645833</td>\n",
       "      <td>0.137984</td>\n",
       "      <td>0.231656</td>\n",
       "    </tr>\n",
       "  </tbody>\n",
       "</table>\n",
       "</div>"
      ],
      "text/plain": [
       "     budget  domgross             title  Response_Json      Year  imdbRating  \\\n",
       "0  0.034169  0.055325     21 &amp; Over            NaN  0.997516    0.839506   \n",
       "1  0.182956  0.023779          Dredd 3D            NaN  0.999503    0.000000   \n",
       "2  0.066059  0.125847  12 Years a Slave            NaN  1.000000    1.000000   \n",
       "3  0.252847  0.183719            2 Guns            NaN  1.000000    0.827160   \n",
       "4  0.157175  0.233625                42            NaN  1.000000    0.925926   \n",
       "\n",
       "   Metascore  imdbVotes     Model  \n",
       "0   0.500000   0.384192  0.261351  \n",
       "1   0.000000   0.000000  0.070486  \n",
       "2   1.000000   1.000000  0.704489  \n",
       "3   0.572917   0.323196  0.371052  \n",
       "4   0.645833   0.137984  0.231656  "
      ]
     },
     "execution_count": 2,
     "metadata": {},
     "output_type": "execute_result"
    }
   ],
   "source": [
    "import pandas as pd\n",
    "df = pd.read_excel('./movie_data_detailed_with_ols.xlsx')\n",
    "def norm(col):\n",
    "    minimum = col.min()\n",
    "    maximum = col.max()\n",
    "    return (col-minimum)/(maximum-minimum)\n",
    "for col in df:\n",
    "    try:\n",
    "        df[col] = norm(df[col])\n",
    "    except:\n",
    "        pass\n",
    "X = df[['budget','imdbRating','Metascore','imdbVotes']]\n",
    "y = df['domgross']\n",
    "df.head()"
   ]
  },
  {
   "cell_type": "code",
   "execution_count": 4,
   "metadata": {},
   "outputs": [],
   "source": [
    "from sklearn.model_selection import train_test_split\n",
    "\n",
    "X_train, X_test, y_train, y_test = train_test_split(X, y)"
   ]
  },
  {
   "cell_type": "markdown",
   "metadata": {},
   "source": [
    "## 2. Fit a regression model to the training data."
   ]
  },
  {
   "cell_type": "code",
   "execution_count": 8,
   "metadata": {},
   "outputs": [
    {
     "data": {
      "text/plain": [
       "LinearRegression(copy_X=True, fit_intercept=True, n_jobs=1, normalize=False)"
      ]
     },
     "execution_count": 8,
     "metadata": {},
     "output_type": "execute_result"
    }
   ],
   "source": [
    "from sklearn.linear_model import LinearRegression\n",
    "\n",
    "reg = LinearRegression()\n",
    "reg.fit(X_train, y_train)"
   ]
  },
  {
   "cell_type": "code",
   "execution_count": 7,
   "metadata": {},
   "outputs": [],
   "source": [
    "import matplotlib.pyplot as plt\n",
    "%matplotlib inline"
   ]
  },
  {
   "cell_type": "markdown",
   "metadata": {},
   "source": [
    "## 2b. Plot the training predictions against the actual data. (Y_hat_train vs Y_train)"
   ]
  },
  {
   "cell_type": "code",
   "execution_count": 22,
   "metadata": {},
   "outputs": [
    {
     "data": {
      "text/plain": [
       "<matplotlib.legend.Legend at 0x1a20bce160>"
      ]
     },
     "execution_count": 22,
     "metadata": {},
     "output_type": "execute_result"
    },
    {
     "data": {
      "image/png": "[encoded data removed]",
      "text/plain": [
       "<Figure size 432x288 with 1 Axes>"
      ]
     },
     "metadata": {},
     "output_type": "display_data"
    }
   ],
   "source": [
    "plt.scatter( reg.predict(X_train), y_train, label=\"Predicted\")\n",
    "plt.scatter(y_train, y_train, label = \"Actual\")\n",
    "plt.legend()"
   ]
  },
  {
   "cell_type": "markdown",
   "metadata": {},
   "source": [
    "## 2c. Plot the test predictions against the actual data. (Y_hat_test vs Y_train)"
   ]
  },
  {
   "cell_type": "code",
   "execution_count": 28,
   "metadata": {},
   "outputs": [
    {
     "data": {
      "text/plain": [
       "<matplotlib.legend.Legend at 0x1a20c9b860>"
      ]
     },
     "execution_count": 28,
     "metadata": {},
     "output_type": "execute_result"
    },
    {
     "data": {
      "image/png": "[encoded data removed]",
      "text/plain": [
       "<Figure size 432x288 with 1 Axes>"
      ]
     },
     "metadata": {},
     "output_type": "display_data"
    }
   ],
   "source": [
    "plt.scatter( reg.predict(X_test), y_test, label=\"Predicted\")\n",
    "plt.scatter(y_test, y_test, label = \"Actual\")\n",
    "plt.legend()"
   ]
  },
  {
   "cell_type": "markdown",
   "metadata": {},
   "source": [
    "## 3. Calculating Bias\n",
    "Write a formula to calculate the bias of a models predictions given the actual data.   \n",
    "(The expected value can simply be taken as the mean or average value.)  \n",
    "$Bias(\\hat{f}(x)) = E[\\hat{f}(x)-f(x)]$  "
   ]
  },
  {
   "cell_type": "code",
   "execution_count": 40,
   "metadata": {},
   "outputs": [],
   "source": [
    "import numpy as np\n",
    "def bias(y, y_hat):\n",
    "    return np.mean(y_hat - y)"
   ]
  },
  {
   "cell_type": "markdown",
   "metadata": {},
   "source": [
    "## 4. Calculating Variance\n",
    "Write a formula to calculate the variance of a model's predictions (or any set of data).  \n",
    "$Var(\\hat{f}(x)) = E[\\hat{f}(x)^2] - \\big(E[\\hat{f}(x)]\\big)^2$"
   ]
  },
  {
   "cell_type": "code",
   "execution_count": 36,
   "metadata": {},
   "outputs": [
    {
     "data": {
      "text/plain": [
       "0.07599896124033617"
      ]
     },
     "execution_count": 36,
     "metadata": {},
     "output_type": "execute_result"
    }
   ],
   "source": [
    "y_pred = reg.predict(X_train)\n",
    "np.mean(y_pred**2)"
   ]
  },
  {
   "cell_type": "code",
   "execution_count": 44,
   "metadata": {},
   "outputs": [],
   "source": [
    "def variance(y_hat):\n",
    "    return np.mean(y_hat**2) - (np.mean(y_hat))**2"
   ]
  },
  {
   "cell_type": "markdown",
   "metadata": {},
   "source": [
    "## 5. Us your functions to calculate the bias and variance of your model. Do this seperately for the train and test sets."
   ]
  },
  {
   "cell_type": "code",
   "execution_count": 45,
   "metadata": {},
   "outputs": [
    {
     "name": "stdout",
     "output_type": "stream",
     "text": [
      "Bias: 4.5418214643756407e-17 \n",
      "Variance: 0.025794690456599496\n"
     ]
    }
   ],
   "source": [
    "#Train Set\n",
    "b = bias(y_train, y_pred)\n",
    "v = variance(y_pred)\n",
    "print('Bias: {} \\nVariance: {}'.format(b,v))"
   ]
  },
  {
   "cell_type": "code",
   "execution_count": 46,
   "metadata": {},
   "outputs": [
    {
     "name": "stdout",
     "output_type": "stream",
     "text": [
      "Bias: -0.031175086387925006 \n",
      "Variance: 0.008833717744524888\n"
     ]
    }
   ],
   "source": [
    "y_pred_test = reg.predict(X_test) \n",
    "#Test Set\n",
    "b = bias(y_test, y_pred_test)\n",
    "v = variance(y_pred_test)\n",
    "print('Bias: {} \\nVariance: {}'.format(b,v))"
   ]
  },
  {
   "cell_type": "markdown",
   "metadata": {},
   "source": [
    "## 6. Describe in words what these numbers can tell you."
   ]
  },
  {
   "cell_type": "markdown",
   "metadata": {},
   "source": [
    "#Your description here (this cell is formatted using markdown)\n",
    "\n",
    "Our training is not doing a good job of prediction. "
   ]
  },
  {
   "cell_type": "markdown",
   "metadata": {},
   "source": [
    "## 7. Overfit a new model by creating additional features by raising current features to various powers."
   ]
  },
  {
   "cell_type": "code",
   "execution_count": 47,
   "metadata": {},
   "outputs": [],
   "source": [
    "def more_features(X, power, amt):\n",
    "    orig_columns = X.columns\n",
    "    for feat in orig_columns:\n",
    "        for i in power:\n",
    "            X['{}^{}'.format(feat, i)] = X[feat].map(lambda x: x**i)\n",
    "            if len(X.columns) >= amt:\n",
    "                break\n",
    "        if len(X.columns) >= amt:\n",
    "            break\n",
    "    return X"
   ]
  },
  {
   "cell_type": "code",
   "execution_count": 48,
   "metadata": {},
   "outputs": [
    {
     "name": "stderr",
     "output_type": "stream",
     "text": [
      "/Users/arihorwitz/anaconda3/lib/python3.6/site-packages/ipykernel_launcher.py:5: SettingWithCopyWarning: \n",
      "A value is trying to be set on a copy of a slice from a DataFrame.\n",
      "Try using .loc[row_indexer,col_indexer] = value instead\n",
      "\n",
      "See the caveats in the documentation: http://pandas.pydata.org/pandas-docs/stable/indexing.html#indexing-view-versus-copy\n",
      "  \"\"\"\n"
     ]
    }
   ],
   "source": [
    "more_x_train = more_features(X_train, range(2,6), 25)\n",
    "more_x_test = more_features(X_test, range(2,6), 25)"
   ]
  },
  {
   "cell_type": "code",
   "execution_count": 49,
   "metadata": {},
   "outputs": [
    {
     "data": {
      "text/html": [
       "<div>\n",
       "<style scoped>\n",
       "    .dataframe tbody tr th:only-of-type {\n",
       "        vertical-align: middle;\n",
       "    }\n",
       "\n",
       "    .dataframe tbody tr th {\n",
       "        vertical-align: top;\n",
       "    }\n",
       "\n",
       "    .dataframe thead th {\n",
       "        text-align: right;\n",
       "    }\n",
       "</style>\n",
       "<table border=\"1\" class=\"dataframe\">\n",
       "  <thead>\n",
       "    <tr style=\"text-align: right;\">\n",
       "      <th></th>\n",
       "      <th>budget</th>\n",
       "      <th>imdbRating</th>\n",
       "      <th>Metascore</th>\n",
       "      <th>imdbVotes</th>\n",
       "      <th>budget^2</th>\n",
       "      <th>budget^3</th>\n",
       "      <th>budget^4</th>\n",
       "      <th>budget^5</th>\n",
       "      <th>imdbRating^2</th>\n",
       "      <th>imdbRating^3</th>\n",
       "      <th>imdbRating^4</th>\n",
       "      <th>imdbRating^5</th>\n",
       "      <th>Metascore^2</th>\n",
       "      <th>Metascore^3</th>\n",
       "      <th>Metascore^4</th>\n",
       "      <th>Metascore^5</th>\n",
       "      <th>imdbVotes^2</th>\n",
       "      <th>imdbVotes^3</th>\n",
       "      <th>imdbVotes^4</th>\n",
       "      <th>imdbVotes^5</th>\n",
       "    </tr>\n",
       "  </thead>\n",
       "  <tbody>\n",
       "    <tr>\n",
       "      <th>21</th>\n",
       "      <td>0.430524</td>\n",
       "      <td>0.827160</td>\n",
       "      <td>0.541667</td>\n",
       "      <td>0.171879</td>\n",
       "      <td>0.185351</td>\n",
       "      <td>0.079798</td>\n",
       "      <td>0.034355</td>\n",
       "      <td>0.014791</td>\n",
       "      <td>0.684194</td>\n",
       "      <td>0.565939</td>\n",
       "      <td>0.468122</td>\n",
       "      <td>0.387212</td>\n",
       "      <td>0.293403</td>\n",
       "      <td>0.158927</td>\n",
       "      <td>0.086085</td>\n",
       "      <td>0.046629</td>\n",
       "      <td>0.029542</td>\n",
       "      <td>0.005078</td>\n",
       "      <td>0.000873</td>\n",
       "      <td>0.000150</td>\n",
       "    </tr>\n",
       "    <tr>\n",
       "      <th>27</th>\n",
       "      <td>0.612756</td>\n",
       "      <td>0.716049</td>\n",
       "      <td>0.427083</td>\n",
       "      <td>0.294330</td>\n",
       "      <td>0.375470</td>\n",
       "      <td>0.230072</td>\n",
       "      <td>0.140978</td>\n",
       "      <td>0.086385</td>\n",
       "      <td>0.512727</td>\n",
       "      <td>0.367138</td>\n",
       "      <td>0.262889</td>\n",
       "      <td>0.188241</td>\n",
       "      <td>0.182400</td>\n",
       "      <td>0.077900</td>\n",
       "      <td>0.033270</td>\n",
       "      <td>0.014209</td>\n",
       "      <td>0.086630</td>\n",
       "      <td>0.025498</td>\n",
       "      <td>0.007505</td>\n",
       "      <td>0.002209</td>\n",
       "    </tr>\n",
       "    <tr>\n",
       "      <th>15</th>\n",
       "      <td>0.111617</td>\n",
       "      <td>0.913580</td>\n",
       "      <td>0.885417</td>\n",
       "      <td>0.264784</td>\n",
       "      <td>0.012458</td>\n",
       "      <td>0.001391</td>\n",
       "      <td>0.000155</td>\n",
       "      <td>0.000017</td>\n",
       "      <td>0.834629</td>\n",
       "      <td>0.762500</td>\n",
       "      <td>0.696605</td>\n",
       "      <td>0.636405</td>\n",
       "      <td>0.783963</td>\n",
       "      <td>0.694134</td>\n",
       "      <td>0.614597</td>\n",
       "      <td>0.544175</td>\n",
       "      <td>0.070111</td>\n",
       "      <td>0.018564</td>\n",
       "      <td>0.004915</td>\n",
       "      <td>0.001302</td>\n",
       "    </tr>\n",
       "    <tr>\n",
       "      <th>14</th>\n",
       "      <td>0.225513</td>\n",
       "      <td>0.962963</td>\n",
       "      <td>0.864583</td>\n",
       "      <td>0.685073</td>\n",
       "      <td>0.050856</td>\n",
       "      <td>0.011469</td>\n",
       "      <td>0.002586</td>\n",
       "      <td>0.000583</td>\n",
       "      <td>0.927298</td>\n",
       "      <td>0.892953</td>\n",
       "      <td>0.859881</td>\n",
       "      <td>0.828034</td>\n",
       "      <td>0.747504</td>\n",
       "      <td>0.646280</td>\n",
       "      <td>0.558763</td>\n",
       "      <td>0.483097</td>\n",
       "      <td>0.469325</td>\n",
       "      <td>0.321522</td>\n",
       "      <td>0.220266</td>\n",
       "      <td>0.150899</td>\n",
       "    </tr>\n",
       "    <tr>\n",
       "      <th>20</th>\n",
       "      <td>0.476082</td>\n",
       "      <td>0.000000</td>\n",
       "      <td>0.000000</td>\n",
       "      <td>0.000000</td>\n",
       "      <td>0.226654</td>\n",
       "      <td>0.107906</td>\n",
       "      <td>0.051372</td>\n",
       "      <td>0.024457</td>\n",
       "      <td>0.000000</td>\n",
       "      <td>0.000000</td>\n",
       "      <td>0.000000</td>\n",
       "      <td>0.000000</td>\n",
       "      <td>0.000000</td>\n",
       "      <td>0.000000</td>\n",
       "      <td>0.000000</td>\n",
       "      <td>0.000000</td>\n",
       "      <td>0.000000</td>\n",
       "      <td>0.000000</td>\n",
       "      <td>0.000000</td>\n",
       "      <td>0.000000</td>\n",
       "    </tr>\n",
       "  </tbody>\n",
       "</table>\n",
       "</div>"
      ],
      "text/plain": [
       "      budget  imdbRating  Metascore  imdbVotes  budget^2  budget^3  budget^4  \\\n",
       "21  0.430524    0.827160   0.541667   0.171879  0.185351  0.079798  0.034355   \n",
       "27  0.612756    0.716049   0.427083   0.294330  0.375470  0.230072  0.140978   \n",
       "15  0.111617    0.913580   0.885417   0.264784  0.012458  0.001391  0.000155   \n",
       "14  0.225513    0.962963   0.864583   0.685073  0.050856  0.011469  0.002586   \n",
       "20  0.476082    0.000000   0.000000   0.000000  0.226654  0.107906  0.051372   \n",
       "\n",
       "    budget^5  imdbRating^2  imdbRating^3  imdbRating^4  imdbRating^5  \\\n",
       "21  0.014791      0.684194      0.565939      0.468122      0.387212   \n",
       "27  0.086385      0.512727      0.367138      0.262889      0.188241   \n",
       "15  0.000017      0.834629      0.762500      0.696605      0.636405   \n",
       "14  0.000583      0.927298      0.892953      0.859881      0.828034   \n",
       "20  0.024457      0.000000      0.000000      0.000000      0.000000   \n",
       "\n",
       "    Metascore^2  Metascore^3  Metascore^4  Metascore^5  imdbVotes^2  \\\n",
       "21     0.293403     0.158927     0.086085     0.046629     0.029542   \n",
       "27     0.182400     0.077900     0.033270     0.014209     0.086630   \n",
       "15     0.783963     0.694134     0.614597     0.544175     0.070111   \n",
       "14     0.747504     0.646280     0.558763     0.483097     0.469325   \n",
       "20     0.000000     0.000000     0.000000     0.000000     0.000000   \n",
       "\n",
       "    imdbVotes^3  imdbVotes^4  imdbVotes^5  \n",
       "21     0.005078     0.000873     0.000150  \n",
       "27     0.025498     0.007505     0.002209  \n",
       "15     0.018564     0.004915     0.001302  \n",
       "14     0.321522     0.220266     0.150899  \n",
       "20     0.000000     0.000000     0.000000  "
      ]
     },
     "execution_count": 49,
     "metadata": {},
     "output_type": "execute_result"
    }
   ],
   "source": [
    "more_x_train.head()"
   ]
  },
  {
   "cell_type": "markdown",
   "metadata": {},
   "source": [
    "## 8a. Plot your overfitted model's training predictions against the actual data."
   ]
  },
  {
   "cell_type": "code",
   "execution_count": 60,
   "metadata": {
    "scrolled": true
   },
   "outputs": [
    {
     "data": {
      "text/plain": [
       "<matplotlib.legend.Legend at 0x1a2118f4e0>"
      ]
     },
     "execution_count": 60,
     "metadata": {},
     "output_type": "execute_result"
    },
    {
     "data": {
      "image/png": "[encoded data removed]",
      "text/plain": [
       "<Figure size 432x288 with 1 Axes>"
      ]
     },
     "metadata": {},
     "output_type": "display_data"
    }
   ],
   "source": [
    "linreg = LinearRegression()\n",
    "linreg.fit(more_x_train, y_train)\n",
    "plt.scatter( linreg.predict(more_x_train), y_train, label=\"Predicted\")\n",
    "plt.scatter(y_train, y_train, label = \"Actual\")\n",
    "plt.legend()"
   ]
  },
  {
   "cell_type": "markdown",
   "metadata": {},
   "source": [
    "## 8b. Calculate the bias and variance for the train set."
   ]
  },
  {
   "cell_type": "code",
   "execution_count": 58,
   "metadata": {},
   "outputs": [
    {
     "name": "stdout",
     "output_type": "stream",
     "text": [
      "Bias: -1.4065467540680388e-12 \n",
      "Variance: 0.0651962193977827\n"
     ]
    }
   ],
   "source": [
    "more_pred = linreg.predict(more_x_train)\n",
    "b = bias(y_train, more_pred)\n",
    "v = variance(more_pred)\n",
    "print('Bias: {} \\nVariance: {}'.format(b,v))"
   ]
  },
  {
   "cell_type": "markdown",
   "metadata": {},
   "source": [
    "## 9a. Plot your overfitted model's test predictions against the actual data."
   ]
  },
  {
   "cell_type": "code",
   "execution_count": 64,
   "metadata": {},
   "outputs": [
    {
     "data": {
      "text/plain": [
       "22"
      ]
     },
     "execution_count": 64,
     "metadata": {},
     "output_type": "execute_result"
    }
   ],
   "source": [
    "len(more_x_train)"
   ]
  },
  {
   "cell_type": "code",
   "execution_count": 67,
   "metadata": {},
   "outputs": [
    {
     "data": {
      "text/plain": [
       "<matplotlib.legend.Legend at 0x1a21480908>"
      ]
     },
     "execution_count": 67,
     "metadata": {},
     "output_type": "execute_result"
    },
    {
     "data": {
      "image/png": "[encoded data removed]",
      "text/plain": [
       "<Figure size 432x288 with 1 Axes>"
      ]
     },
     "metadata": {},
     "output_type": "display_data"
    }
   ],
   "source": [
    "plt.scatter(linreg.predict(more_x_test), y_test, label=\"Predict\")\n",
    "plt.scatter(y_test, y_test, label = \"Actual\")\n",
    "plt.legend()"
   ]
  },
  {
   "cell_type": "markdown",
   "metadata": {},
   "source": [
    "## 9b. Calculate the bias and variance for the train set."
   ]
  },
  {
   "cell_type": "code",
   "execution_count": 69,
   "metadata": {},
   "outputs": [
    {
     "name": "stdout",
     "output_type": "stream",
     "text": [
      "Bias: -0.45460489481381017 \n",
      "Variance: 0.5338972708197555\n"
     ]
    }
   ],
   "source": [
    "even_more = linreg.predict(more_x_test)\n",
    "b = bias(y_test, even_more,)\n",
    "v = variance(even_more)\n",
    "print('Bias: {} \\nVariance: {}'.format(b,v))"
   ]
  },
  {
   "cell_type": "markdown",
   "metadata": {},
   "source": [
    "## 10. Describe what you notice about the bias and variance statistics for your overfit model."
   ]
  },
  {
   "cell_type": "markdown",
   "metadata": {},
   "source": [
    "#Your description here (this cell is formatted using markdown)"
   ]
  }
 ],
 "metadata": {
  "kernelspec": {
   "display_name": "Python 3",
   "language": "python",
   "name": "python3"
  },
  "language_info": {
   "codemirror_mode": {
    "name": "ipython",
    "version": 3
   },
   "file_extension": ".py",
   "mimetype": "text/x-python",
   "name": "python",
   "nbconvert_exporter": "python",
   "pygments_lexer": "ipython3",
   "version": "3.6.5"
  }
 },
 "nbformat": 4,
 "nbformat_minor": 2
}
